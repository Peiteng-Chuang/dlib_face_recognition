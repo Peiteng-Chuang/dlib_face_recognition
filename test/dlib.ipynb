{
 "cells": [
  {
   "cell_type": "code",
   "execution_count": 1,
   "metadata": {},
   "outputs": [
    {
     "name": "stdout",
     "output_type": "stream",
     "text": [
      "Requirement already satisfied: dlib in c:\\users\\payten\\anaconda3\\envs\\py_39_cv\\lib\\site-packages (19.22.99)\n",
      "Requirement already satisfied: opencv-python in c:\\users\\payten\\anaconda3\\envs\\py_39_cv\\lib\\site-packages (4.9.0.80)\n",
      "Requirement already satisfied: numpy in c:\\users\\payten\\anaconda3\\envs\\py_39_cv\\lib\\site-packages (1.26.4)\n",
      "Note: you may need to restart the kernel to use updated packages.\n"
     ]
    }
   ],
   "source": [
    "pip install dlib opencv-python numpy\n"
   ]
  },
  {
   "cell_type": "code",
   "execution_count": 1,
   "metadata": {},
   "outputs": [],
   "source": [
    "import cv2\n",
    "import numpy as np\n",
    "import dlib\n",
    "\n",
    "def apply_eyeshadow(image, landmarks, color):\n",
    "    left_eye_points = landmarks[36:42]\n",
    "    right_eye_points = landmarks[42:48]\n",
    "    mask = np.zeros_like(image)\n",
    "    cv2.fillPoly(mask, [left_eye_points, right_eye_points], color)\n",
    "    result = cv2.addWeighted(image, 1, mask, 0.4, 0)\n",
    "    return result\n",
    "\n",
    "def apply_blush(image, landmarks, color):\n",
    "    left_cheek = landmarks[1:3]\n",
    "    right_cheek = landmarks[14:16]\n",
    "    mask = np.zeros_like(image)\n",
    "    cv2.fillPoly(mask, [left_cheek, right_cheek], color)\n",
    "    result = cv2.addWeighted(image, 1, mask, 0.4, 0)\n",
    "    return result\n",
    "\n",
    "def apply_lipstick(image, landmarks, color):\n",
    "    lips_points = landmarks[48:61]  # 嘴唇的點\n",
    "    mask = np.zeros_like(image)\n",
    "    cv2.fillPoly(mask, [lips_points], color)\n",
    "    result = cv2.addWeighted(image, 1, mask, 0.4, 0)\n",
    "    return result\n"
   ]
  },
  {
   "cell_type": "code",
   "execution_count": 2,
   "metadata": {},
   "outputs": [],
   "source": [
    "\n",
    "# 載入dlib的面部偵測器和形狀預測模型\n",
    "detector = dlib.get_frontal_face_detector()\n",
    "predictor = dlib.shape_predictor('shape_predictor_68_face_landmarks.dat')\n",
    "\n",
    "# 定義化妝效果函數\n",
    "\n",
    "\n",
    "# 讀取圖像\n",
    "image = cv2.imread('face.jpg')\n",
    "gray = cv2.cvtColor(image, cv2.COLOR_BGR2GRAY)\n",
    "\n",
    "# 偵測面部\n",
    "faces = detector(gray)\n",
    "for face in faces:\n",
    "    landmarks = predictor(gray, face)\n",
    "    landmarks = np.array([(p.x, p.y) for p in landmarks.parts()])\n",
    "    \n",
    "    # 應用化妝效果（例如口紅）\n",
    "    image = apply_lipstick(image, landmarks, (0, 0, 255))  # 紅色口紅\n",
    "\n",
    "# 顯示結果\n",
    "cv2.imshow('dlib VR Makeup', image)\n",
    "cv2.waitKey(0)\n",
    "cv2.destroyAllWindows()"
   ]
  },
  {
   "cell_type": "code",
   "execution_count": null,
   "metadata": {},
   "outputs": [],
   "source": []
  }
 ],
 "metadata": {
  "kernelspec": {
   "display_name": "py_39_cv",
   "language": "python",
   "name": "python3"
  },
  "language_info": {
   "codemirror_mode": {
    "name": "ipython",
    "version": 3
   },
   "file_extension": ".py",
   "mimetype": "text/x-python",
   "name": "python",
   "nbconvert_exporter": "python",
   "pygments_lexer": "ipython3",
   "version": "3.9.19"
  }
 },
 "nbformat": 4,
 "nbformat_minor": 2
}
